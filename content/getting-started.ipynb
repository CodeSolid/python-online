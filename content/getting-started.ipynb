{
 "cells": [
  {
   "cell_type": "markdown",
   "id": "54bd0ceb-343c-4e71-9e60-d2fef482421a",
   "metadata": {},
   "source": [
    "# Getting Started with JupyterLite\n",
    "\n",
    "This is an adaptation of the Jupyter Notebook example as described in the article [Jupyter Notebook:  A Complete Introduction](https://codesolid.com/jupyter-notebook-a-complete-introduction/). This is a Markdown \"cell\" (row).  You can double-click this cell to view or edit the text.  When you're done editing, type Shift-ENTER to run the cell."
   ]
  },
  {
   "cell_type": "code",
   "execution_count": null,
   "id": "c0bf1366-50c0-46d6-b3d6-d7b789b8865e",
   "metadata": {},
   "outputs": [],
   "source": [
    "# This is a Python Code Cell.  It behaves like the Python terminal, \n",
    "# so it will display the results of the last expression.  \n",
    "# You can also use print or other Python functions, or course.\n",
    "# Double-click on this cell if you want to edit the python code.\n",
    "# \n",
    "# Try running this cell by clicking on it and typing Shift-ENTER\n",
    "\n",
    "print(2+2)\n",
    "message = \"Hello from Python\"\n",
    "message"
   ]
  },
  {
   "cell_type": "markdown",
   "id": "72b510f4-e087-41b1-8183-accfd5ab5c3b",
   "metadata": {},
   "source": [
    "Jupyterlite supports plotting using Pandas or Matplotlib out of the box.  We import pandas and use it, we import matplotlib just to show it's available."
   ]
  },
  {
   "cell_type": "code",
   "execution_count": 19,
   "id": "ae7c9f98-6a15-4f18-9a8c-d47bc8990107",
   "metadata": {},
   "outputs": [
    {
     "data": {
      "text/html": [
       "<div>\n",
       "<style scoped>\n",
       "    .dataframe tbody tr th:only-of-type {\n",
       "        vertical-align: middle;\n",
       "    }\n",
       "\n",
       "    .dataframe tbody tr th {\n",
       "        vertical-align: top;\n",
       "    }\n",
       "\n",
       "    .dataframe thead th {\n",
       "        text-align: right;\n",
       "    }\n",
       "</style>\n",
       "<table border=\"1\" class=\"dataframe\">\n",
       "  <thead>\n",
       "    <tr style=\"text-align: right;\">\n",
       "      <th></th>\n",
       "      <th>name</th>\n",
       "      <th>age</th>\n",
       "      <th>height_inches</th>\n",
       "    </tr>\n",
       "  </thead>\n",
       "  <tbody>\n",
       "    <tr>\n",
       "      <th>0</th>\n",
       "      <td>Roger</td>\n",
       "      <td>27</td>\n",
       "      <td>73</td>\n",
       "    </tr>\n",
       "    <tr>\n",
       "      <th>1</th>\n",
       "      <td>Juan</td>\n",
       "      <td>32</td>\n",
       "      <td>70</td>\n",
       "    </tr>\n",
       "    <tr>\n",
       "      <th>2</th>\n",
       "      <td>Marla</td>\n",
       "      <td>40</td>\n",
       "      <td>61</td>\n",
       "    </tr>\n",
       "    <tr>\n",
       "      <th>3</th>\n",
       "      <td>Diane</td>\n",
       "      <td>16</td>\n",
       "      <td>65</td>\n",
       "    </tr>\n",
       "  </tbody>\n",
       "</table>\n",
       "</div>"
      ],
      "text/plain": [
       "    name  age  height_inches\n",
       "0  Roger   27             73\n",
       "1   Juan   32             70\n",
       "2  Marla   40             61\n",
       "3  Diane   16             65"
      ]
     },
     "execution_count": 19,
     "metadata": {},
     "output_type": "execute_result"
    }
   ],
   "source": [
    "import pandas as pd\n",
    "from pandas import DataFrame\n",
    "import matplotlib.pyplot as plt\n",
    "\n",
    "data = {\n",
    "    'name': ['Roger', 'Juan', 'Marla', 'Diane'],\n",
    "    'age': [27, 32, 40, 16],\n",
    "    'height_inches': [73, 70, 61, 65]\n",
    "}\n",
    "\n",
    "df = DataFrame(data)\n",
    "df"
   ]
  },
  {
   "cell_type": "code",
   "execution_count": 20,
   "id": "6aee8293-ca7a-46c7-a791-9538bc5285c0",
   "metadata": {},
   "outputs": [
    {
     "data": {
      "image/png": "[encoded data removed]",
      "text/plain": [
       "<Figure size 640x480 with 1 Axes>"
      ]
     },
     "metadata": {},
     "output_type": "display_data"
    }
   ],
   "source": [
    "df.plot(x='name', y='height_inches', kind='bar')\n",
    "plt.show()"
   ]
  },
  {
   "cell_type": "code",
   "execution_count": 21,
   "id": "d26719fa-8918-47bb-b36e-45488a517842",
   "metadata": {},
   "outputs": [
    {
     "name": "stdout",
     "output_type": "stream",
     "text": [
      "[[19 22]\n",
      " [43 50]]\n"
     ]
    }
   ],
   "source": [
    "# NumPy is also available in this environment:\n",
    "\n",
    "import numpy as np\n",
    "\n",
    "# Let's just multiply two matrices in NumPy to give you a taste:\n",
    "\n",
    "M = np.array([1,2,3,4]).reshape(2,2)\n",
    "N = np.array([5,6,7,8]).reshape(2,2)\n",
    "\n",
    "# Multipy matrices with @ or with np.matmul(M,N)\n",
    "print(M@N)"
   ]
  },
  {
   "cell_type": "code",
   "execution_count": null,
   "id": "070a8623-9f2d-4de6-8798-c4f6d19e994c",
   "metadata": {},
   "outputs": [],
   "source": []
  }
 ],
 "metadata": {
  "kernelspec": {
   "display_name": "Python 3 (ipykernel)",
   "language": "python",
   "name": "python3"
  },
  "language_info": {
   "codemirror_mode": {
    "name": "ipython",
    "version": 3
   },
   "file_extension": ".py",
   "mimetype": "text/x-python",
   "name": "python",
   "nbconvert_exporter": "python",
   "pygments_lexer": "ipython3",
   "version": "3.10.4"
  }
 },
 "nbformat": 4,
 "nbformat_minor": 5
}
