{
 "cells": [
  {
   "cell_type": "markdown",
   "id": "6e1cf6f7-9637-480c-a925-4ec91fa63583",
   "metadata": {},
   "source": [
    "# Matrix Multiplication\n",
    "\n",
    "This is the companion source to the article, [Python Matrix Multiplication in NumPy and SymPy](https://codesolid.com/python-matrix-multiplication/).  See the article for more discussion."
   ]
  },
  {
   "cell_type": "markdown",
   "id": "e23be50c-1e20-4c28-a497-6cabc64f5738",
   "metadata": {},
   "source": [
    "## Multplying Matrices in NumPy"
   ]
  },
  {
   "cell_type": "code",
   "execution_count": 1,
   "id": "c2dfc8e7-054e-4b73-854c-589ece29be93",
   "metadata": {},
   "outputs": [
    {
     "name": "stdout",
     "output_type": "stream",
     "text": [
      "Matrix product using @: \n",
      "\n",
      " [[19 22]\n",
      " [43 50]] \n",
      "\n",
      "Identical result from matmul:\n",
      "\n",
      " [[19 22]\n",
      " [43 50]] \n",
      "\n",
      "Element-wise multiplication using *:\n",
      "\n",
      " [[ 5 12]\n",
      " [21 32]] \n",
      "\n"
     ]
    }
   ],
   "source": [
    "import numpy as np\n",
    "\n",
    "A = np.array([1,2,3,4]).reshape(2,2)\n",
    "B = np.array([5,6,7,8]).reshape(2,2)\n",
    "\n",
    "# Display the matrix product using @ operator\n",
    "print(\"Matrix product using @: \\n\\n\", A @ B, \"\\n\")\n",
    "\n",
    "# Display matrix product using matmul\"\n",
    "print(\"Identical result from matmul:\\n\\n\", np.matmul(A, B), \"\\n\")\n",
    "\n",
    "# Display Hadamard product\n",
    "print(\"Element-wise multiplication using *:\\n\\n\", A * B, \"\\n\")\n"
   ]
  },
  {
   "cell_type": "markdown",
   "id": "dbefaa27-0309-4d5e-9220-58d67ba4d8b0",
   "metadata": {},
   "source": [
    "## Multplying Matrices in SymPy"
   ]
  },
  {
   "cell_type": "code",
   "execution_count": 25,
   "id": "7cdef7d6-aa54-41ee-9311-960fd260bb8e",
   "metadata": {},
   "outputs": [
    {
     "name": "stdout",
     "output_type": "stream",
     "text": [
      "Matrix product using original sympy * operator:\n"
     ]
    },
    {
     "data": {
      "image/png": "[encoded data removed]",
      "text/latex": [
       "$\\displaystyle \\left[\\begin{matrix}19 & 22\\\\43 & 50\\end{matrix}\\right]$"
      ],
      "text/plain": [
       "⎡19  22⎤\n",
       "⎢      ⎥\n",
       "⎣43  50⎦"
      ]
     },
     "metadata": {},
     "output_type": "display_data"
    },
    {
     "name": "stdout",
     "output_type": "stream",
     "text": [
      "\n",
      " Same product using new Python @ operator:\n"
     ]
    },
    {
     "data": {
      "image/png": "[encoded data removed]",
      "text/latex": [
       "$\\displaystyle \\left[\\begin{matrix}19 & 22\\\\43 & 50\\end{matrix}\\right]$"
      ],
      "text/plain": [
       "⎡19  22⎤\n",
       "⎢      ⎥\n",
       "⎣43  50⎦"
      ]
     },
     "metadata": {},
     "output_type": "display_data"
    },
    {
     "name": "stdout",
     "output_type": "stream",
     "text": [
      "\n",
      " Get the Hadamard product with matrix_multiply_elementwise:\n"
     ]
    },
    {
     "data": {
      "image/png": "[encoded data removed]",
      "text/latex": [
       "$\\displaystyle \\left[\\begin{matrix}5 & 12\\\\21 & 32\\end{matrix}\\right]$"
      ],
      "text/plain": [
       "⎡5   12⎤\n",
       "⎢      ⎥\n",
       "⎣21  32⎦"
      ]
     },
     "metadata": {},
     "output_type": "display_data"
    }
   ],
   "source": [
    "from sympy.matrices import Matrix\n",
    "from sympy.matrices.dense import matrix_multiply_elementwise\n",
    "\n",
    "C = Matrix([[1,2],[3,4]])\n",
    "D = Matrix([[5,6],[7,8]])\n",
    "\n",
    "print(\"Matrix product using original sympy * operator:\")\n",
    "display(C * D)\n",
    "\n",
    "print(\"\\n\", \"Same product using new Python @ operator:\")\n",
    "display(C * D)\n",
    "\n",
    "print(\"\\n\", \"Get the Hadamard product with matrix_multiply_elementwise:\")\n",
    "display(matrix_multiply_elementwise(C,D))"
   ]
  },
  {
   "cell_type": "code",
   "execution_count": 22,
   "id": "75dd6f0a-86d0-4acb-af65-04a54c1bd59f",
   "metadata": {},
   "outputs": [
    {
     "data": {
      "text/plain": [
       "array([[1, 2],\n",
       "       [3, 4]])"
      ]
     },
     "execution_count": 22,
     "metadata": {},
     "output_type": "execute_result"
    }
   ],
   "source": [
    "np.array(C).astype(np.int64)"
   ]
  },
  {
   "cell_type": "markdown",
   "id": "803bd992-4e79-456e-b1c8-99a46c27eb77",
   "metadata": {},
   "source": [
    "# Matrix Multiplication is Not Commutative\n",
    "\n",
    "In general, given two matrices, like our two SymPy matrices above (C and D), then \n",
    "\n",
    "$ \n",
    "\\begin{align}\n",
    "C \\cdot D & \\ne D \\cdot C \\\\\n",
    "\\end{align}\n",
    "$\n"
   ]
  },
  {
   "cell_type": "code",
   "execution_count": 33,
   "id": "502b223d-eb57-4a2d-b7cd-9a84d2b3f344",
   "metadata": {},
   "outputs": [
    {
     "name": "stdout",
     "output_type": "stream",
     "text": [
      "C times D:\n"
     ]
    },
    {
     "data": {
      "image/png": "[encoded data removed]",
      "text/latex": [
       "$\\displaystyle \\left[\\begin{matrix}19 & 22\\\\43 & 50\\end{matrix}\\right]$"
      ],
      "text/plain": [
       "⎡19  22⎤\n",
       "⎢      ⎥\n",
       "⎣43  50⎦"
      ]
     },
     "metadata": {},
     "output_type": "display_data"
    },
    {
     "name": "stdout",
     "output_type": "stream",
     "text": [
      "\n",
      "D times C:\n"
     ]
    },
    {
     "data": {
      "image/png": "[encoded data removed]",
      "text/latex": [
       "$\\displaystyle \\left[\\begin{matrix}23 & 34\\\\31 & 46\\end{matrix}\\right]$"
      ],
      "text/plain": [
       "⎡23  34⎤\n",
       "⎢      ⎥\n",
       "⎣31  46⎦"
      ]
     },
     "metadata": {},
     "output_type": "display_data"
    }
   ],
   "source": [
    "print(\"C times D:\")\n",
    "display(C * D)\n",
    "\n",
    "print(\"\\nD times C:\")\n",
    "display(D * C)"
   ]
  },
  {
   "cell_type": "markdown",
   "id": "2193a6d0-ce10-4cae-80b4-49d310e858a8",
   "metadata": {},
   "source": [
    "# Matrix Dimensions\n",
    "\n",
    "An example. Rows always come first, then columns, when talking about dimensions.\n",
    "\n",
    "$$\n",
    "J = \\begin{bmatrix}2 & 1\\\\1 & 3\\\\2 & 8\\\\4 & 2\\end{bmatrix}\\\\\n",
    "\\text{4 rows by 2 columns or just 4 x 2} \\\\\n",
    "$$\n",
    "\n",
    "$$\n",
    "K = \\left[\\begin{matrix}5 & 2 & 6\\\\7 & 8 & 3\\end{matrix}\\right]\\\\\n",
    "\\text{2 rows by 3 columns or just 2 x 3 } \\\\\n",
    "$$"
   ]
  },
  {
   "cell_type": "markdown",
   "id": "06230ba9-ae98-4b23-8349-64e4e0fda998",
   "metadata": {},
   "source": [
    "# Valid and Invalid Matrix Multiplication Results"
   ]
  },
  {
   "cell_type": "code",
   "execution_count": 46,
   "id": "370e9b35-5569-4a0e-a522-c4d90a77fb31",
   "metadata": {},
   "outputs": [
    {
     "name": "stdout",
     "output_type": "stream",
     "text": [
      "J @ K = \n",
      " [[17 12 15]\n",
      " [26 26 15]\n",
      " [66 68 36]\n",
      " [34 24 30]]\n"
     ]
    },
    {
     "ename": "ValueError",
     "evalue": "matmul: Input operand 1 has a mismatch in its core dimension 0, with gufunc signature (n?,k),(k,m?)->(n?,m?) (size 4 is different from 3)",
     "output_type": "error",
     "traceback": [
      "\u001b[0;31m---------------------------------------------------------------------------\u001b[0m",
      "\u001b[0;31mValueError\u001b[0m                                Traceback (most recent call last)",
      "Cell \u001b[0;32mIn [46], line 7\u001b[0m\n\u001b[1;32m      5\u001b[0m \u001b[38;5;66;03m# Multipy and display results\u001b[39;00m\n\u001b[1;32m      6\u001b[0m \u001b[38;5;28mprint\u001b[39m(\u001b[38;5;124mf\u001b[39m\u001b[38;5;124m\"\u001b[39m\u001b[38;5;124mJ @ K = \u001b[39m\u001b[38;5;130;01m\\n\u001b[39;00m\u001b[38;5;124m \u001b[39m\u001b[38;5;132;01m{\u001b[39;00mJ \u001b[38;5;241m@\u001b[39m K\u001b[38;5;132;01m}\u001b[39;00m\u001b[38;5;124m\"\u001b[39m)\n\u001b[0;32m----> 7\u001b[0m \u001b[38;5;28mprint\u001b[39m(\u001b[38;5;124mf\u001b[39m\u001b[38;5;124m\"\u001b[39m\u001b[38;5;124mK @ J = \u001b[39m\u001b[38;5;130;01m\\n\u001b[39;00m\u001b[38;5;124m \u001b[39m\u001b[38;5;132;01m{\u001b[39;00mK \u001b[38;5;241m@\u001b[39m J\u001b[38;5;132;01m}\u001b[39;00m\u001b[38;5;124m\"\u001b[39m)\n",
      "\u001b[0;31mValueError\u001b[0m: matmul: Input operand 1 has a mismatch in its core dimension 0, with gufunc signature (n?,k),(k,m?)->(n?,m?) (size 4 is different from 3)"
     ]
    }
   ],
   "source": [
    "# Set up matrices\n",
    "J = np.array([2, 1, 1, 3, 2, 8, 4, 2]).reshape(4,2)\n",
    "K = np.array([ [5, 2, 6],[7, 8, 3] ])\n",
    "\n",
    "# Multipy and display results (second line will raise an exception)\n",
    "print(f\"J @ K = \\n {J @ K}\")\n",
    "print(f\"K @ J = \\n {K @ J}\")"
   ]
  },
  {
   "cell_type": "markdown",
   "id": "384fcfb1-ba61-446a-badc-311c9346206b",
   "metadata": {},
   "source": [
    "$\n",
    "\\begin{bmatrix} \n",
    "2 \\\\\n",
    "1\n",
    "\\end{bmatrix} \\cdot\n",
    "\\begin{bmatrix}\n",
    "5 \\\\\n",
    "7\n",
    "\\end{bmatrix}\n",
    "$"
   ]
  },
  {
   "cell_type": "markdown",
   "id": "e1e58b87-384b-468c-9bc4-11cce63b3005",
   "metadata": {},
   "source": [
    "# Generating Matrices to Practice By Hand\n",
    "\n",
    "Knowing how to do matrix multiplication by hand may be important in a linear algebra course, and in any case can help you understand what Python is doing under the hood.  To practice the tecnique, it can help you to have a way to generate your own practice questions and \"solutions\".\n",
    "\n",
    "Below is some code that you can use for this."
   ]
  },
  {
   "cell_type": "code",
   "execution_count": 56,
   "id": "010ad6ba-cbed-4135-bfd6-0d84034afbee",
   "metadata": {},
   "outputs": [
    {
     "name": "stdout",
     "output_type": "stream",
     "text": [
      "[[4 5 2 5]\n",
      " [1 2 3 3]] \n",
      "\n",
      " [[2 1]\n",
      " [4 1]\n",
      " [5 4]]\n"
     ]
    }
   ],
   "source": [
    "# Run this cell to generate a practice pair\n",
    "\n",
    "import numpy as np\n",
    "\n",
    "def get_test_matrix(rows, cols, within=(1,6)):\n",
    "    \"\"\"returns a matrix of size rows x cols with random integers\n",
    "       from the half-open range specified in the within parameter.  \n",
    "       For example, the default (1,6) returns random numbers from 1 through 5\n",
    "    \"\"\"\n",
    "    lower, upper = within\n",
    "    return np.random.randint(lower,upper, rows*cols).reshape(rows, cols)\n",
    "\n",
    "# Create and display two test matrices  You can change the sizes here, but \n",
    "# remember that inner dimmensions must match!\n",
    "P = get_test_matrix(3,2)\n",
    "Q = get_test_matrix(2,4)\n",
    "print(Q, \"\\n\\n\", P)"
   ]
  },
  {
   "cell_type": "code",
   "execution_count": 55,
   "id": "7bd47d9a-9a3c-4d2c-a47f-9dace6a81efb",
   "metadata": {},
   "outputs": [],
   "source": [
    "# Uncomment this to check your solution:\n",
    "# P @ Q"
   ]
  }
 ],
 "metadata": {
  "kernelspec": {
   "display_name": "Python 3 (ipykernel)",
   "language": "python",
   "name": "python3"
  },
  "language_info": {
   "codemirror_mode": {
    "name": "ipython",
    "version": 3
   },
   "file_extension": ".py",
   "mimetype": "text/x-python",
   "name": "python",
   "nbconvert_exporter": "python",
   "pygments_lexer": "ipython3",
   "version": "3.10.4"
  }
 },
 "nbformat": 4,
 "nbformat_minor": 5
}
