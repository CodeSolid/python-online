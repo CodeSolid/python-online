{
 "cells": [
  {
   "cell_type": "markdown",
   "id": "6e1cf6f7-9637-480c-a925-4ec91fa63583",
   "metadata": {},
   "source": [
    "# Matrix Multiplication\n",
    "\n",
    "This is the companion source to the article, [Python Matrix Multiplication in NumPy and SymPy](https://codesolid.com/python-matrix-multiplication/).  See the article for more discussion."
   ]
  },
  {
   "cell_type": "code",
   "execution_count": 1,
   "id": "c2dfc8e7-054e-4b73-854c-589ece29be93",
   "metadata": {},
   "outputs": [
    {
     "name": "stdout",
     "output_type": "stream",
     "text": [
      "Matrix product using @: \n",
      "\n",
      " [[19 22]\n",
      " [43 50]] \n",
      "\n",
      "Identical result from matmul:\n",
      "\n",
      " [[19 22]\n",
      " [43 50]] \n",
      "\n",
      "Element-wise multiplication using *:\n",
      "\n",
      " [[ 5 12]\n",
      " [21 32]] \n",
      "\n"
     ]
    }
   ],
   "source": [
    "import numpy as np\n",
    "\n",
    "A = np.array([1,2,3,4]).reshape(2,2)\n",
    "B = np.array([5,6,7,8]).reshape(2,2)\n",
    "\n",
    "# Display the matrix product using @ operator\n",
    "print(\"Matrix product using @: \\n\\n\", A @ B, \"\\n\")\n",
    "\n",
    "# Display matrix product using matmul\"\n",
    "print(\"Identical result from matmul:\\n\\n\", np.matmul(A, B), \"\\n\")\n",
    "\n",
    "# Display Hadamard product\n",
    "print(\"Element-wise multiplication using *:\\n\\n\", A * B, \"\\n\")\n"
   ]
  }
 ],
 "metadata": {
  "kernelspec": {
   "display_name": "Python 3 (ipykernel)",
   "language": "python",
   "name": "python3"
  },
  "language_info": {
   "codemirror_mode": {
    "name": "ipython",
    "version": 3
   },
   "file_extension": ".py",
   "mimetype": "text/x-python",
   "name": "python",
   "nbconvert_exporter": "python",
   "pygments_lexer": "ipython3",
   "version": "3.10.4"
  }
 },
 "nbformat": 4,
 "nbformat_minor": 5
}
