{
 "cells": [
  {
   "cell_type": "markdown",
   "id": "ac247839-c163-4fcd-8db6-9a83fa35ca66",
   "metadata": {},
   "source": [
    "# CodeSolid Python Online\n",
    "\n",
    "Welcome to CodeSolid's online Python portal, based on JupyterLite. What you're looking at is Jupyter Lab, running in your browser.\n",
    "\n",
    "Even though you're running this online, you can modify and save files -- Jupyter Lite will do that in IndexDB instead of the file system.  More information is coming soon. "
   ]
  }
 ],
 "metadata": {
  "kernelspec": {
   "display_name": "Python 3 (ipykernel)",
   "language": "python",
   "name": "python3"
  },
  "language_info": {
   "codemirror_mode": {
    "name": "ipython",
    "version": 3
   },
   "file_extension": ".py",
   "mimetype": "text/x-python",
   "name": "python",
   "nbconvert_exporter": "python",
   "pygments_lexer": "ipython3",
   "version": "3.10.4"
  }
 },
 "nbformat": 4,
 "nbformat_minor": 5
}
