{
 "cells": [
  {
   "cell_type": "markdown",
   "id": "ac247839-c163-4fcd-8db6-9a83fa35ca66",
   "metadata": {},
   "source": [
    "# Python Online\n",
    "\n",
    "<div>\n",
    "    <img src=\"https://codesolid.com/wp-content/uploads/2022/07/cropped-cropped-cropped-CodeSolid-2.png\" width=100\" style=\"float:left;margin-right:2em;margin-bottom:1em;\"/>\n",
    "</div>\n",
    "\n",
    "\n",
    "\n",
    "Welcome to CodeSolid's online Python portal, based on JupyterLite. What you're looking at is Jupyter Lab, running in your browser.\n",
    "\n",
    "Even though you're running this online, you can modify and save files -- Jupyter Lite will do that in IndexDB instead of the file system. \n",
    "\n",
    "Try entering some Python in the cell below and click the run button above or Shift-Enter to see the results."
   ]
  },
  {
   "cell_type": "code",
   "execution_count": null,
   "id": "1b1bd721-9d1f-4d07-b1f8-dfa3afb9a887",
   "metadata": {},
   "outputs": [],
   "source": []
  }
 ],
 "metadata": {
  "kernelspec": {
   "display_name": "Python 3 (ipykernel)",
   "language": "python",
   "name": "python3"
  },
  "language_info": {
   "codemirror_mode": {
    "name": "ipython",
    "version": 3
   },
   "file_extension": ".py",
   "mimetype": "text/x-python",
   "name": "python",
   "nbconvert_exporter": "python",
   "pygments_lexer": "ipython3",
   "version": "3.10.4"
  }
 },
 "nbformat": 4,
 "nbformat_minor": 5
}
