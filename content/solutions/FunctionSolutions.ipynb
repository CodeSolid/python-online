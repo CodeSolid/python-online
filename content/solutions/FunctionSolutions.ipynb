{
 "cells": [
  {
   "cell_type": "markdown",
   "id": "28592ba2-63c9-4975-987b-2c709e4a4efb",
   "metadata": {},
   "source": [
    "Using a loop, and without using a slice or other built-in function, write a function \"reverse_list\" and takes a list as input and returns a copy of the list in which all the elements have been swapped (the first element with the last, the second with the next to last, etc.)  Test that it works correctly for the following lists:\n",
    "```\n",
    "odd_length = [23, 4, 9, 6, 8, 22, 18]\n",
    "even_length = [6, 5, 2, 9, 44, 12]\n",
    "empty_list = []\n",
    "```"
   ]
  },
  {
   "cell_type": "code",
   "execution_count": 9,
   "id": "8c09562c-57a4-4096-867f-a375f1a58a9d",
   "metadata": {},
   "outputs": [],
   "source": [
    "def reverse_list(input: list) -> list:\n",
    "    \"\"\"returns a reversed copy of list, leaving original list unchanged\"\"\"\n",
    "    half_list = int(len(input) / 2)\n",
    "    output = input.copy()\n",
    "    for idx in range(0, half_list):\n",
    "        output[idx] = input[len(input) - 1 - idx]\n",
    "        output[len(input) - 1 - idx] = input[idx]\n",
    "    return output\n",
    "\n",
    "# Test as instructed\n",
    "odd_length = [23, 4, 9, 6, 8, 22, 18]\n",
    "even_length = [6, 5, 2, 9, 44, 12]\n",
    "empty_list = []\n",
    "assert reverse_list(odd_length) == [18, 22, 8, 6, 9, 4, 23]\n",
    "assert reverse_list(even_length) == [12, 44, 9, 2, 5, 6]\n",
    "assert reverse_list(empty_list) == empty_list\n",
    "\n",
    "# Ensure orginal unchanged\n",
    "assert odd_length == [23, 4, 9, 6, 8, 22, 18]"
   ]
  },
  {
   "cell_type": "markdown",
   "id": "60b97532-d89f-4b6c-a3b3-e2109eaf6d57",
   "metadata": {},
   "source": [
    "Write a function that takes in a string and returns the string with all the vowels\n",
    "removed.  Test it using the following code (you should see no output):\n",
    "\n",
    "```\n",
    "assert remove_vowels(\"We all love Python!\") == \"W ll lv Pythn!\"\n",
    "```"
   ]
  },
  {
   "cell_type": "code",
   "execution_count": 14,
   "id": "b771539d-41ef-42db-87ea-e91339439dfd",
   "metadata": {},
   "outputs": [],
   "source": [
    "def remove_vowels(string):\n",
    "    \"\"\"Returns a string with the vowels removed.\"\"\"\n",
    "    vowels = \"aeiouAEIOU\"\n",
    "    new_string = \"\"\n",
    "    for char in string:\n",
    "    if char not in vowels:\n",
    "      new_string += char\n",
    "    return new_string\n",
    "\n",
    "assert remove_vowels(\"We all love Python!\") == \"W ll lv Pythn!\""
   ]
  },
  {
   "cell_type": "markdown",
   "id": "2e427fd6-1f0b-461b-a3a2-5506db0c1220",
   "metadata": {},
   "source": [
    "Write a function that takes in a list of integers or floats and returns True if the list contains any duplicates, and False if the list does not contain any duplicate numbers.  Use a type hint to \"enforce\" the correct type."
   ]
  },
  {
   "cell_type": "code",
   "execution_count": 8,
   "id": "3ce86a0c-fdd7-474e-8384-9a0df05ee6ba",
   "metadata": {},
   "outputs": [],
   "source": [
    "def has_duplicates(items: list[int|float]) -> bool:\n",
    "    \"\"\"Checks the list and returns true if there are duplicate values.\"\"\"\n",
    "    return len(set(items)) < len(items)\n",
    "\n",
    "# Test\n",
    "assert not has_duplicates([1,2,3,4])\n",
    "assert has_duplicates([1.0, 2.0, 3.3, 3.3])"
   ]
  },
  {
   "cell_type": "markdown",
   "id": "80701d3a-12f4-4b66-bbd5-0c101394e1d6",
   "metadata": {},
   "source": [
    "Write a program that calls a simple function to print all the powers of two, up to and including the twelfth power.  The output should look like this:\n",
    "\n",
    "```\n",
    "2 to the power of 0 = 1\n",
    "2 to the power of 1 = 2\n",
    "# ...\n",
    "```\n",
    "\n",
    "Use a while loop to control the iteration and printing."
   ]
  },
  {
   "cell_type": "code",
   "execution_count": 9,
   "id": "55f429ea-4d25-4d85-857f-3af4a3560f1a",
   "metadata": {},
   "outputs": [
    {
     "name": "stdout",
     "output_type": "stream",
     "text": [
      "2 to the power of 0 is 1\n",
      "2 to the power of 1 is 2\n",
      "2 to the power of 2 is 4\n",
      "2 to the power of 3 is 8\n",
      "2 to the power of 4 is 16\n",
      "2 to the power of 5 is 32\n",
      "2 to the power of 6 is 64\n",
      "2 to the power of 7 is 128\n",
      "2 to the power of 8 is 256\n",
      "2 to the power of 9 is 512\n",
      "2 to the power of 10 is 1024\n",
      "2 to the power of 11 is 2048\n",
      "2 to the power of 12 is 4096\n"
     ]
    }
   ],
   "source": [
    "def print_powers_of_two():\n",
    "    \"\"\"Print two raised to a number, for numbers in range 0 to 12, inclusive\"\"\"\n",
    "    exponent = 0\n",
    "    LAST = 12\n",
    "    while exponent <= LAST:\n",
    "        print(f\"2 to the power of {exponent} is {2**exponent}\")\n",
    "        exponent += 1\n",
    "\n",
    "print_powers_of_two()"
   ]
  },
  {
   "cell_type": "markdown",
   "id": "01e313b1-4144-4033-9c4f-32db0286ebd1",
   "metadata": {},
   "source": [
    "Calculate the same values, but this time, write a function named calculate_values to return numbers raised to a power of two in a list, again beginning at 2 to the zero, and ending at 2 to the 12th power as before.  Call the function and test the returned list this way:\n",
    "\n",
    "```\n",
    "values = calculate_values()\n",
    "print(values)\n",
    "assert values[0] == 1\n",
    "assert values[-1] == 4096\n",
    "```\n",
    "\n",
    "You should see the list values and no other output.\n",
    "___\n",
    "\n",
    "\n"
   ]
  },
  {
   "cell_type": "code",
   "execution_count": 2,
   "id": "56980a0e-fd01-424c-b472-cc5594d8a69e",
   "metadata": {},
   "outputs": [
    {
     "name": "stdout",
     "output_type": "stream",
     "text": [
      "[1, 2, 4, 8, 16, 32, 64, 128, 256, 512, 1024, 2048, 4096]\n"
     ]
    }
   ],
   "source": [
    "def calculate_values():\n",
    "    LAST = 12\n",
    "    return [2**exponent for exponent in range(0, LAST+1)]\n",
    "\n",
    "values = calculate_values()\n",
    "print(values)\n",
    "assert values[0] == 1\n",
    "assert values[-1] == 4096"
   ]
  },
  {
   "cell_type": "markdown",
   "id": "a32a80dc-9398-49d7-9399-fbb7795c2a9e",
   "metadata": {},
   "source": [
    "---\n",
    "\n",
    "Write a function with the following signature:\n",
    "\n",
    "```\n",
    "def display_box(width: int, height: int, character=\"*\")\n",
    "    \n",
    "```\n",
    "This function will draw a simple ASCII-art rectangle (non-filled) of the given height and width, using character to print the lines.  For example, ```display_box(5, 4, 'x')``` should output\n",
    "\n",
    "```\n",
    "xxxxx\n",
    "x   x\n",
    "x   x\n",
    "xxxxx\n",
    "```\n",
    "----\n",
    "\n",
    "The function should raise an exception if the dimensions are less than 2 wide by two high.\n"
   ]
  },
  {
   "cell_type": "code",
   "execution_count": 17,
   "id": "f5fdd45d-0700-4ec9-bee8-5ef02087067f",
   "metadata": {},
   "outputs": [
    {
     "name": "stdout",
     "output_type": "stream",
     "text": [
      "xxxxx\n",
      "x   x\n",
      "x   x\n",
      "xxxxx\n"
     ]
    }
   ],
   "source": [
    "def display_box(width: int, height: int, character=\"*\"):\n",
    "    if width < 2 or height < 2:\n",
    "        raise Exception(\"Box dimensions must be at least 2 x 2\")\n",
    "    line = 0\n",
    "    while line < height:\n",
    "        # First or last line\n",
    "        if line == 0 or line == height - 1:\n",
    "            print(character * width)\n",
    "        else:\n",
    "            print(character + \" \" * (width - 2) + character)\n",
    "        line += 1\n",
    "\n",
    "# Try testing with different values, e.g.\n",
    "display_box(5, 4, 'x')"
   ]
  },
  {
   "cell_type": "markdown",
   "id": "089a42b8-55c5-49ec-a288-26c001a699e6",
   "metadata": {},
   "source": [
    "This exercise is famous, and a perhaps one of the most popular \"can you handle basic programming\" interview questions.  Write a function, fizzbuzz, with a single integer argument named value.  If the value is evenly divisible by three, return the string \"fizz\".  It the value is evenly divisible by five, return the string \"buzz\".  If the value is evenly divisible by both three and five, return fizzbuzz.  Finally, if none of these apply, return an empty string.\n",
    "\n",
    "Test it with the following code:\n",
    "\n",
    "```\n",
    "values = [3,6,9,11,5,10,20,23,15,30,60]\n",
    "for value in values:\n",
    "    print(fizzbuzz(value))\n",
    "```\n"
   ]
  },
  {
   "cell_type": "code",
   "execution_count": 21,
   "id": "4991f441-1752-466b-8ba7-f3640bf4a60c",
   "metadata": {},
   "outputs": [
    {
     "name": "stdout",
     "output_type": "stream",
     "text": [
      "fizz\n",
      "fizz\n",
      "fizz\n",
      "\n",
      "buzz\n",
      "buzz\n",
      "buzz\n",
      "\n",
      "fizzbuzz\n",
      "fizzbuzz\n",
      "fizzbuzz\n"
     ]
    }
   ],
   "source": [
    "def fizzbuzz(value: int) -> str:\n",
    "    result = \"\"\n",
    "    if value % 3 == 0:\n",
    "        result += \"fizz\"\n",
    "    if value % 5 == 0:\n",
    "        result += \"buzz\"\n",
    "    return result\n",
    "    \n",
    "values = [3,6,9,11,10,20,40,23,15,30,60]\n",
    "for value in values:\n",
    "    print(fizzbuzz(value))"
   ]
  },
  {
   "cell_type": "markdown",
   "id": "3a9c78fc-3adc-4b4f-adb1-5b619a4f62ad",
   "metadata": {},
   "source": [
    "There are six New England states:  Rhode Island, Connecticut, Massachusetts, Maine, Vermont, and New Hampshire. Their postal abbreviations are RI, CT, MA, ME, VT, and NH, respectively.  \n",
    "\n",
    "Write a function that takes a New England state code as a string and returns a string with the longer name as shown above.  Return None if no mapping is found."
   ]
  },
  {
   "cell_type": "code",
   "execution_count": 25,
   "id": "8a6b4d73-e195-41a8-8e1a-dacee76bbe3a",
   "metadata": {},
   "outputs": [
    {
     "name": "stdout",
     "output_type": "stream",
     "text": [
      "Maine\n",
      "None\n"
     ]
    }
   ],
   "source": [
    "def get_state_full_name(state_code: str) -> str:\n",
    "    \"\"\"Maps a state code to a full name for New England States only\"\"\"\n",
    "    states = {\n",
    "        \"RI\": \"Rhode Island\", \n",
    "        \"CT\": \"Connecticut\",\n",
    "        \"MA\": \"Massachusetts\",\n",
    "        \"ME\": \"Maine\",\n",
    "        \"NH\": \"New Hampshire\",\n",
    "        \"VT\": \"Vermont\"}\n",
    "    return states.get(state_code.upper())\n",
    "\n",
    "print(get_state_full_name(\"me\"))\n",
    "print(get_state_full_name(\"YOU\"))\n"
   ]
  },
  {
   "cell_type": "markdown",
   "id": "52e9a95f-b967-4bd0-8604-bab9bd6b8cdc",
   "metadata": {},
   "source": [
    "Speaking of interview questions, here's another fairly simple one we used to ask developers who interviewed for our small team:\n",
    "\n",
    "Suppose you have a list of movie objects, which are defined as follows:\n",
    "```\n",
    "class Movie:\n",
    "    def __init__(self, title, director, year_released):\n",
    "        self.title = title\n",
    "        self.director = director\n",
    "        self.year_released = year_released\n",
    "```\n",
    "Write a function that takes a list of movies and displays the title and director of each movie in the list.\n",
    "    \n"
   ]
  },
  {
   "cell_type": "code",
   "execution_count": 39,
   "id": "da44d2f4-b8d3-478d-a0f1-ef143783a00c",
   "metadata": {},
   "outputs": [
    {
     "name": "stdout",
     "output_type": "stream",
     "text": [
      "'Full Metal Jacket'. Directed by Stanley Kubrick.\n",
      "'Star Trek II: The Wrath of Khan'. Directed by Nicholas Meyer.\n"
     ]
    }
   ],
   "source": [
    "class Movie:\n",
    "    def __init__(self, title, director, year_released):\n",
    "        self.title = title\n",
    "        self.director = director\n",
    "        self.year_released = year_released\n",
    "        \n",
    "def display_movies(movies: list[Movie]) -> None:\n",
    "    \"\"\"Displays movie title and director, one per line\"\"\"\n",
    "    for movie in movies:\n",
    "        print(f\"'{movie.title}'. Directed by {movie.director}.\")\n",
    "\n",
    "movies = [Movie(\"Full Metal Jacket\", \"Stanley Kubrick\", 1987), \n",
    "          Movie(\"Star Trek II: The Wrath of Khan\", \"Nicholas Meyer\", 1982)]\n",
    "\n",
    "display_movies(movies)"
   ]
  },
  {
   "cell_type": "markdown",
   "id": "9b009f60-6a51-40dd-97bf-7c83c9f52ee8",
   "metadata": {},
   "source": [
    "A certain print order costs $3.00 per copy for orders of less than ten copies, $1.25 for for orders of 10-99 copies, and $0.90 per copy for orders of 100 copies or more.  Write a function that returns a total price for the order."
   ]
  },
  {
   "cell_type": "code",
   "execution_count": 54,
   "id": "6bf56753-f320-4fac-9151-752343199cec",
   "metadata": {
    "tags": []
   },
   "outputs": [
    {
     "name": "stdout",
     "output_type": "stream",
     "text": [
      "27.0\n",
      "12.5\n",
      "123.75\n",
      "90.0\n"
     ]
    }
   ],
   "source": [
    "def calculate_price(copies: int):\n",
    "    \"\"\"Calculate price of a print order based on cutoffs\"\"\"\n",
    "    small_order_rate = 3.00\n",
    "    medium_order_rate = 1.25\n",
    "    large_order_rate = .90\n",
    "    \n",
    "    minimum_medium_order = 10\n",
    "    minimum_large_order = 100\n",
    "        \n",
    "    if copies < minimum_medium_order:\n",
    "        return copies * small_order_rate\n",
    "    elif copies < minimum_large_order:\n",
    "        return copies * medium_order_rate\n",
    "    else:\n",
    "        return copies * large_order_rate\n",
    "\n",
    "# Informal test\n",
    "print(calculate_price(9))\n",
    "print(calculate_price(10))\n",
    "print(calculate_price(99))\n",
    "print(calculate_price(100))\n"
   ]
  },
  {
   "cell_type": "markdown",
   "id": "786b3e74-712f-4ef9-8aeb-0badbc8370d8",
   "metadata": {},
   "source": [
    "The velocity of an object falling near the earth is given as -9.81 meters per second squared.  (It's negative because the object is falling downwards, so it's relative to where it started).  Write a function that takes two arguments, a whole number of seconds since the object was released and a starting height in meters.  Return a boolean value that's True if the object would still be accelerating, or False it it already hit the ground."
   ]
  },
  {
   "cell_type": "code",
   "execution_count": 63,
   "id": "552675ce-9e27-445d-99b5-5c6f5416bd46",
   "metadata": {},
   "outputs": [
    {
     "data": {
      "text/plain": [
       "True"
      ]
     },
     "execution_count": 63,
     "metadata": {},
     "output_type": "execute_result"
    }
   ],
   "source": [
    "def still_falling(seconds_ago: int, starting_height: float):\n",
    "    \"\"\"Returns true if an object dropped so many seconds ago would still be falling\"\"\"\n",
    "    distance = -9.81 * seconds_ago**2\n",
    "    return starting_height + distance > 0"
   ]
  },
  {
   "cell_type": "code",
   "execution_count": null,
   "id": "6ec0f5f7-6792-43ed-a0ef-628186c62e6a",
   "metadata": {},
   "outputs": [],
   "source": [
    "\n",
    "    "
   ]
  }
 ],
 "metadata": {
  "kernelspec": {
   "display_name": "Python 3 (ipykernel)",
   "language": "python",
   "name": "python3"
  },
  "language_info": {
   "codemirror_mode": {
    "name": "ipython",
    "version": 3
   },
   "file_extension": ".py",
   "mimetype": "text/x-python",
   "name": "python",
   "nbconvert_exporter": "python",
   "pygments_lexer": "ipython3",
   "version": "3.10.6"
  }
 },
 "nbformat": 4,
 "nbformat_minor": 5
}
